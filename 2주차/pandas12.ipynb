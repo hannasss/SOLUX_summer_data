{
  "nbformat": 4,
  "nbformat_minor": 0,
  "metadata": {
    "kernelspec": {
      "display_name": "Python 3",
      "language": "python",
      "name": "python3"
    },
    "language_info": {
      "codemirror_mode": {
        "name": "ipython",
        "version": 3
      },
      "file_extension": ".py",
      "mimetype": "text/x-python",
      "name": "python",
      "nbconvert_exporter": "python",
      "pygments_lexer": "ipython3",
      "version": "3.8.2"
    },
    "colab": {
      "name": "pandas12.ipynb",
      "provenance": [],
      "include_colab_link": true
    }
  },
  "cells": [
    {
      "cell_type": "markdown",
      "metadata": {
        "id": "view-in-github",
        "colab_type": "text"
      },
      "source": [
        "<a href=\"https://colab.research.google.com/github/hannasss/SOLUX_summer_data/blob/master/2%EC%A3%BC%EC%B0%A8/pandas12.ipynb\" target=\"_parent\"><img src=\"https://colab.research.google.com/assets/colab-badge.svg\" alt=\"Open In Colab\"/></a>"
      ]
    },
    {
      "cell_type": "code",
      "metadata": {
        "id": "H4PQ7II1cNiB",
        "colab_type": "code",
        "colab": {}
      },
      "source": [
        "import pandas as pd"
      ],
      "execution_count": null,
      "outputs": []
    },
    {
      "cell_type": "code",
      "metadata": {
        "id": "_luxl7_ZcNiQ",
        "colab_type": "code",
        "colab": {}
      },
      "source": [
        "job_list = [{'name':'John','job':'teacher'},\n",
        "           {'name':'Nate','job':'teacher'},\n",
        "           {'name':'Fred','job':'teacher'},\n",
        "           {'name':'Abraham','job':'student'},\n",
        "           {'name':'Brian','job':'student'},\n",
        "           {'name':'Janny','job':'developer'},\n",
        "           {'name':'Nate','job':'teacher'},\n",
        "           {'name':'Ian','job':'teacher'},\n",
        "           {'name':'chris','job':'banker'},\n",
        "            {'name':'Philip','job':'lawyer'},\n",
        "            {'name':'Janny','job':'basketball player'},\n",
        "            {'name':'Gwen','job':'teacher'},\n",
        "            {'name':'Jessy','job':'student'}\n",
        "           ]\n",
        "df =pd.DataFrame(job_list,columns = ['name','job'])"
      ],
      "execution_count": null,
      "outputs": []
    },
    {
      "cell_type": "code",
      "metadata": {
        "id": "6iFxyYDicNic",
        "colab_type": "code",
        "colab": {},
        "outputId": "bbc79f4d-8847-47f5-c76c-a5f56618cc3c"
      },
      "source": [
        "df"
      ],
      "execution_count": null,
      "outputs": [
        {
          "output_type": "execute_result",
          "data": {
            "text/html": [
              "<div>\n",
              "<style scoped>\n",
              "    .dataframe tbody tr th:only-of-type {\n",
              "        vertical-align: middle;\n",
              "    }\n",
              "\n",
              "    .dataframe tbody tr th {\n",
              "        vertical-align: top;\n",
              "    }\n",
              "\n",
              "    .dataframe thead th {\n",
              "        text-align: right;\n",
              "    }\n",
              "</style>\n",
              "<table border=\"1\" class=\"dataframe\">\n",
              "  <thead>\n",
              "    <tr style=\"text-align: right;\">\n",
              "      <th></th>\n",
              "      <th>name</th>\n",
              "      <th>job</th>\n",
              "    </tr>\n",
              "  </thead>\n",
              "  <tbody>\n",
              "    <tr>\n",
              "      <th>0</th>\n",
              "      <td>John</td>\n",
              "      <td>teacher</td>\n",
              "    </tr>\n",
              "    <tr>\n",
              "      <th>1</th>\n",
              "      <td>Nate</td>\n",
              "      <td>teacher</td>\n",
              "    </tr>\n",
              "    <tr>\n",
              "      <th>2</th>\n",
              "      <td>Fred</td>\n",
              "      <td>teacher</td>\n",
              "    </tr>\n",
              "    <tr>\n",
              "      <th>3</th>\n",
              "      <td>Abraham</td>\n",
              "      <td>student</td>\n",
              "    </tr>\n",
              "    <tr>\n",
              "      <th>4</th>\n",
              "      <td>Brian</td>\n",
              "      <td>student</td>\n",
              "    </tr>\n",
              "    <tr>\n",
              "      <th>5</th>\n",
              "      <td>Janny</td>\n",
              "      <td>developer</td>\n",
              "    </tr>\n",
              "    <tr>\n",
              "      <th>6</th>\n",
              "      <td>Nate</td>\n",
              "      <td>teacher</td>\n",
              "    </tr>\n",
              "    <tr>\n",
              "      <th>7</th>\n",
              "      <td>Ian</td>\n",
              "      <td>teacher</td>\n",
              "    </tr>\n",
              "    <tr>\n",
              "      <th>8</th>\n",
              "      <td>chris</td>\n",
              "      <td>banker</td>\n",
              "    </tr>\n",
              "    <tr>\n",
              "      <th>9</th>\n",
              "      <td>Philip</td>\n",
              "      <td>lawyer</td>\n",
              "    </tr>\n",
              "    <tr>\n",
              "      <th>10</th>\n",
              "      <td>Janny</td>\n",
              "      <td>basketball player</td>\n",
              "    </tr>\n",
              "    <tr>\n",
              "      <th>11</th>\n",
              "      <td>Gwen</td>\n",
              "      <td>teacher</td>\n",
              "    </tr>\n",
              "    <tr>\n",
              "      <th>12</th>\n",
              "      <td>Jessy</td>\n",
              "      <td>student</td>\n",
              "    </tr>\n",
              "  </tbody>\n",
              "</table>\n",
              "</div>"
            ],
            "text/plain": [
              "       name                job\n",
              "0      John            teacher\n",
              "1      Nate            teacher\n",
              "2      Fred            teacher\n",
              "3   Abraham            student\n",
              "4     Brian            student\n",
              "5     Janny          developer\n",
              "6      Nate            teacher\n",
              "7       Ian            teacher\n",
              "8     chris             banker\n",
              "9    Philip             lawyer\n",
              "10    Janny  basketball player\n",
              "11     Gwen            teacher\n",
              "12    Jessy            student"
            ]
          },
          "metadata": {
            "tags": []
          },
          "execution_count": 6
        }
      ]
    },
    {
      "cell_type": "markdown",
      "metadata": {
        "id": "4Yp440K6cQ_6",
        "colab_type": "text"
      },
      "source": [
        "유니크 값 추출"
      ]
    },
    {
      "cell_type": "code",
      "metadata": {
        "id": "aWJUAV6ecNir",
        "colab_type": "code",
        "colab": {},
        "outputId": "f8775b9b-5653-4139-c154-48577a9b26f5"
      },
      "source": [
        "df.job.unique()"
      ],
      "execution_count": null,
      "outputs": [
        {
          "output_type": "execute_result",
          "data": {
            "text/plain": [
              "array(['teacher', 'student', 'developer', 'banker', 'lawyer',\n",
              "       'basketball player'], dtype=object)"
            ]
          },
          "metadata": {
            "tags": []
          },
          "execution_count": 7
        }
      ]
    },
    {
      "cell_type": "markdown",
      "metadata": {
        "id": "1XZ8yLDpcTns",
        "colab_type": "text"
      },
      "source": [
        "유니크 값 갯수 확인"
      ]
    },
    {
      "cell_type": "code",
      "metadata": {
        "id": "S7H2ngKpcNi1",
        "colab_type": "code",
        "colab": {},
        "outputId": "2e5c1bb9-3b32-4f7c-e7fb-b7c2a58d601a"
      },
      "source": [
        "df.job.value_counts()"
      ],
      "execution_count": null,
      "outputs": [
        {
          "output_type": "execute_result",
          "data": {
            "text/plain": [
              "teacher              6\n",
              "student              3\n",
              "basketball player    1\n",
              "lawyer               1\n",
              "banker               1\n",
              "developer            1\n",
              "Name: job, dtype: int64"
            ]
          },
          "metadata": {
            "tags": []
          },
          "execution_count": 8
        }
      ]
    },
    {
      "cell_type": "code",
      "metadata": {
        "id": "AGgMBk-ucNi_",
        "colab_type": "code",
        "colab": {}
      },
      "source": [
        ""
      ],
      "execution_count": null,
      "outputs": []
    }
  ]
}